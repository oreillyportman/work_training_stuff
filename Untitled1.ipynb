{
 "cells": [
  {
   "cell_type": "code",
   "execution_count": 5,
   "metadata": {},
   "outputs": [
    {
     "name": "stdout",
     "output_type": "stream",
     "text": [
      "What would you like your user name to be?: Sean\n",
      "What is your psw?: &^%%$^rhsdiojfoi5678\n",
      "Your overall password strength is 100 %\n",
      "You have a really strong password Sean\n",
      "How long would you like your stronger suggested password to be in legnth mulitiples of 3?: 8\n",
      "Your suggested password is 7f( ͡~ ͜ʖ ͡°)1P<0b_2v#8Q£3T( ͡ʘ ͜ʖ ͡ʘ)9m[ ͡° ͜ʖ ͡°]4c=\n",
      "Would you like another try? (0 for yes, anything else for no)0\n",
      "What would you like your user name to be?: cunt\n",
      "What is your psw?: ^$%%Wgfsdhvoidcx,azfn1234\n",
      "Your overall password strength is 110 %\n",
      "You have a really strong password cunt\n",
      "How long would you like your stronger suggested password to be in legnth mulitiples of 3?: 8\n",
      "Your suggested password is 7i%4U!9F~1c-3L<5B>2Z( ͡ʘ ͜ʖ ͡ʘ)6D#\n",
      "Would you like another try? (0 for yes, anything else for no)9\n"
     ]
    }
   ],
   "source": [
    "from random import shuffle\n",
    "kill_value = 0\n",
    "while kill_value = 0:\n",
    "    User = input(\"What would you like your user name to be?: \") #implement while loop to ask user if they would like to run again.\n",
    "    Psw =  input(\"What is your psw?: \")\n",
    "    Psw_str = [0,0,0]\n",
    "    break_val = 0\n",
    "    suggested_psw = ''\n",
    "    Num = ['0','1','2','3','4','5','6','7','8','9']\n",
    "    char = ['a','b','c','d','e','f','g','h','i','j','k','l',\n",
    "            'm','n','p','q','r','s','t','u','v','w','x','y',\n",
    "            'z','A','B','C','D','E','F','G','H','I','J','K','L',\n",
    "            'M','N','P','Q','R','S','T','U','V','W','X','Y',\n",
    "            'Z']\n",
    "    spc_char = ['-','+','=','^','&','*','£','$','!','?','#',\n",
    "                '-','_','%','@','~','>','<','[ ͡° ͜ʖ ͡°]','(͡ ͡° ͜ つ ͡͡°)','( ͡~ ͜ʖ ͡°)','( ͡ʘ ͜ʖ ͡ʘ)','¯\\_(ツ)_/¯']\n",
    "\n",
    "    shuffle(Num)\n",
    "    shuffle(char)\n",
    "    shuffle(spc_char)\n",
    "\n",
    "    if len(Psw) < 9:\n",
    "        print(\"Psw too short, please input a new psw! Psw legnth must be at least 9 charcters long!\")\n",
    "    else:\n",
    "        for i in range(0,len(Psw)):\n",
    "\n",
    "            for j in range(0,len(Num)):\n",
    "                if Num.count(Psw[i]) > 0:\n",
    "                    Psw_str[0] = Psw_str[0] + 1     \n",
    "\n",
    "            for j in range(0,len(Num)):\n",
    "                if Psw.count(Psw[i]) > 0:\n",
    "                    Psw_str[1] = Psw_str[1] + 1              \n",
    "\n",
    "            for j in range(0,len(Num)):\n",
    "                if spc_char.count(Psw[i]) > 0:\n",
    "                    Psw_str[2] = Psw_str[2] + 1\n",
    "\n",
    "\n",
    "    if Psw_str[0] == 0 and i == len(Num):\n",
    "        print(\"Please input a letter in your psw!\")\n",
    "        break_val = 1\n",
    "\n",
    "    if Psw_str[2] == 0 and i == len(Num):\n",
    "        print(\"Please input a special character in your psw!\")\n",
    "        break_val = 1  \n",
    "\n",
    "    if Psw_str[1] == 0 and i == len(Num):\n",
    "        print(\"Please input a number in your psw!\")\n",
    "        break_val = 1\n",
    "\n",
    "    if break_val == 1:\n",
    "        print('Please restart the program and try again!')\n",
    "    else:\n",
    "        print('Your overall password strength is ' + str(int(100*(Psw_str[0]+Psw_str[1]+Psw_str[2])/300)) + ' %')\n",
    "\n",
    "        if 100*(Psw_str[0]+Psw_str[1]+Psw_str[2])/300 >= 80:\n",
    "            print(\"You have a really strong password \" + User)\n",
    "\n",
    "        elif 100*(Psw_str[0]+Psw_str[1]+Psw_str[2])/300 < 80 and 100*(Psw_str[0]+Psw_str[1]+Psw_str[2])/300 >= 60:\n",
    "            print(\"You password isn't that strong. Make sure you are using a good mix of different characters!\")\n",
    "\n",
    "        else:\n",
    "            print(\"You should try harder...\")\n",
    "\n",
    "    sueested_password_legnth = int(input(\"How long would you like your stronger suggested password to be in legnth mulitiples of 3?: \"))#multiples of 3?\n",
    "\n",
    "    for i in range(0,sueested_password_legnth): \n",
    "        suggested_psw += Num[i]\n",
    "        suggested_psw += char[i]\n",
    "        suggested_psw += spc_char[i]\n",
    "\n",
    "    print('Your suggested password is ' + str(suggested_psw))\n",
    "    kill_value = int(input(\"Would you like another try? (0 for yes, anything else for no)\"))\n"
   ]
  },
  {
   "cell_type": "code",
   "execution_count": null,
   "metadata": {},
   "outputs": [],
   "source": []
  },
  {
   "cell_type": "code",
   "execution_count": null,
   "metadata": {},
   "outputs": [],
   "source": []
  },
  {
   "cell_type": "code",
   "execution_count": null,
   "metadata": {},
   "outputs": [],
   "source": []
  },
  {
   "cell_type": "code",
   "execution_count": null,
   "metadata": {},
   "outputs": [],
   "source": []
  },
  {
   "cell_type": "code",
   "execution_count": null,
   "metadata": {},
   "outputs": [],
   "source": []
  }
 ],
 "metadata": {
  "kernelspec": {
   "display_name": "Python 3",
   "language": "python",
   "name": "python3"
  },
  "language_info": {
   "codemirror_mode": {
    "name": "ipython",
    "version": 3
   },
   "file_extension": ".py",
   "mimetype": "text/x-python",
   "name": "python",
   "nbconvert_exporter": "python",
   "pygments_lexer": "ipython3",
   "version": "3.7.3"
  }
 },
 "nbformat": 4,
 "nbformat_minor": 2
}
