{
 "cells": [
  {
   "cell_type": "code",
   "execution_count": 21,
   "metadata": {},
   "outputs": [
    {
     "name": "stdout",
     "output_type": "stream",
     "text": [
      "What's your first name?Sea\n",
      "What's your second name?shells\n",
      "Hello Sea shells.\n"
     ]
    }
   ],
   "source": [
    "FirstName = input(\"What's your first name?\")\n",
    "SecondName = input(\"What's your second name?\")\n",
    "\n",
    "print(\"Hello \" + FirstName + \" \" + SecondName + \".\")"
   ]
  },
  {
   "cell_type": "code",
   "execution_count": 2,
   "metadata": {},
   "outputs": [
    {
     "name": "stdout",
     "output_type": "stream",
     "text": [
      "First number: 2\n",
      "Add +, minus -, multiply *, Modulus, divide / or raise to power of **:/\n",
      "Second number: 2\n",
      "1.0\n",
      "Would you like another calculation? 0 for YES anything else for no9\n"
     ]
    }
   ],
   "source": [
    "def cal(Operator, Num1, Num2):\n",
    "    if Operator == \"+\":\n",
    "        return(Num1 + Num2)\n",
    "    \n",
    "    elif Operator == \"-\":\n",
    "        return(Num1 - Num2)\n",
    "    \n",
    "    elif Operator == \"*\":\n",
    "        return(Num1 * Num2)\n",
    "    \n",
    "    elif Operator == \"/\":\n",
    "        return(Num1 / Num2)\n",
    "    \n",
    "    elif Operator == \"%\":\n",
    "        return(Num1 % Num2)\n",
    "    \n",
    "    elif Operator == \"**\":\n",
    "        return(Num1 ** Num2)\n",
    "    \n",
    "    else:\n",
    "        print(\"ERROR PLEASE CHECK OPERATOR SYNTAX\")\n",
    "        \n",
    "Lp = 0        # Is the loop program varible for the while loop below/\n",
    "while Lp == int(0):        \n",
    "    Num1 = float(input(\"First number: \"))\n",
    "    Operator = input(\"Add +, minus -, multiply *, Modulus, divide / or raise to power of **:\")\n",
    "    Num2 = float(input(\"Second number: \"))\n",
    "\n",
    "    print(cal(Operator, Num1, Num2))\n",
    "    Lp = int(input(\"Would you like another calculation? 0 for YES anything else for no\"))\n",
    "    \n",
    "accepted_values= [0,1,2,3,4,5,6,7,8,9]"
   ]
  },
  {
   "cell_type": "code",
   "execution_count": 22,
   "metadata": {},
   "outputs": [
    {
     "name": "stdout",
     "output_type": "stream",
     "text": [
      "Shortest side of rectangle: 0\n",
      "Longest side of rectangle: -\n"
     ]
    },
    {
     "ename": "ValueError",
     "evalue": "could not convert string to float: '-'",
     "output_type": "error",
     "traceback": [
      "\u001b[1;31m---------------------------------------------------------------------------\u001b[0m",
      "\u001b[1;31mValueError\u001b[0m                                Traceback (most recent call last)",
      "\u001b[1;32m<ipython-input-22-aabd9ad3be24>\u001b[0m in \u001b[0;36m<module>\u001b[1;34m\u001b[0m\n\u001b[0;32m      2\u001b[0m \u001b[1;32mwhile\u001b[0m \u001b[0mLp\u001b[0m \u001b[1;33m==\u001b[0m \u001b[0mint\u001b[0m\u001b[1;33m(\u001b[0m\u001b[1;36m0\u001b[0m\u001b[1;33m)\u001b[0m\u001b[1;33m:\u001b[0m\u001b[1;33m\u001b[0m\u001b[1;33m\u001b[0m\u001b[0m\n\u001b[0;32m      3\u001b[0m     \u001b[0mR1\u001b[0m \u001b[1;33m=\u001b[0m \u001b[0mfloat\u001b[0m\u001b[1;33m(\u001b[0m\u001b[0minput\u001b[0m\u001b[1;33m(\u001b[0m\u001b[1;34m\"Shortest side of rectangle: \"\u001b[0m\u001b[1;33m)\u001b[0m\u001b[1;33m)\u001b[0m\u001b[1;33m\u001b[0m\u001b[1;33m\u001b[0m\u001b[0m\n\u001b[1;32m----> 4\u001b[1;33m     \u001b[0mR2\u001b[0m \u001b[1;33m=\u001b[0m \u001b[0mfloat\u001b[0m\u001b[1;33m(\u001b[0m\u001b[0minput\u001b[0m\u001b[1;33m(\u001b[0m\u001b[1;34m\"Longest side of rectangle: \"\u001b[0m\u001b[1;33m)\u001b[0m\u001b[1;33m)\u001b[0m\u001b[1;33m\u001b[0m\u001b[1;33m\u001b[0m\u001b[0m\n\u001b[0m\u001b[0;32m      5\u001b[0m     \u001b[0mprint\u001b[0m\u001b[1;33m(\u001b[0m\u001b[1;34m\"The perimeter is \"\u001b[0m \u001b[1;33m+\u001b[0m \u001b[0mstr\u001b[0m\u001b[1;33m(\u001b[0m\u001b[1;36m2\u001b[0m\u001b[1;33m*\u001b[0m\u001b[1;33m(\u001b[0m\u001b[0mR1\u001b[0m \u001b[1;33m+\u001b[0m \u001b[0mR2\u001b[0m\u001b[1;33m)\u001b[0m\u001b[1;33m)\u001b[0m \u001b[1;33m+\u001b[0m \u001b[1;34m\" and the area is \"\u001b[0m \u001b[1;33m+\u001b[0m \u001b[0mstr\u001b[0m\u001b[1;33m(\u001b[0m\u001b[0mcal\u001b[0m\u001b[1;33m(\u001b[0m\u001b[1;34m\"*\"\u001b[0m\u001b[1;33m,\u001b[0m\u001b[0mR1\u001b[0m\u001b[1;33m,\u001b[0m\u001b[0mR2\u001b[0m\u001b[1;33m)\u001b[0m\u001b[1;33m)\u001b[0m\u001b[1;33m)\u001b[0m\u001b[1;33m\u001b[0m\u001b[1;33m\u001b[0m\u001b[0m\n\u001b[0;32m      6\u001b[0m     \u001b[0mLp\u001b[0m \u001b[1;33m=\u001b[0m \u001b[0mint\u001b[0m\u001b[1;33m(\u001b[0m\u001b[0minput\u001b[0m\u001b[1;33m(\u001b[0m\u001b[1;34m\"Would you like another calculation? 0 for YES anything else for no\"\u001b[0m\u001b[1;33m)\u001b[0m\u001b[1;33m)\u001b[0m\u001b[1;33m\u001b[0m\u001b[1;33m\u001b[0m\u001b[0m\n",
      "\u001b[1;31mValueError\u001b[0m: could not convert string to float: '-'"
     ]
    }
   ],
   "source": [
    "Lp = 0        \n",
    "while Lp == int(0):        \n",
    "    R1 = float(input(\"Shortest side of rectangle: \"))\n",
    "    R2 = float(input(\"Longest side of rectangle: \"))\n",
    "    print(\"The perimeter is \" + str(2*(R1 + R2)) + \" and the area is \" + str(cal(\"*\",R1,R2)))\n",
    "    Lp = int(input(\"Would you like another calculation? 0 for YES anything else for no\"))"
   ]
  },
  {
   "cell_type": "code",
   "execution_count": 22,
   "metadata": {},
   "outputs": [
    {
     "name": "stdout",
     "output_type": "stream",
     "text": [
      "Your maths mark is:65\n",
      "Your physics mark is:65\n",
      "Your chemistry mark is:65\n",
      "Your overall mark is 65.0% and you have achived a grade of B.\n"
     ]
    }
   ],
   "source": [
    "Maths_Mark = float(input(\"Your maths mark is:\"))\n",
    "Physics_Mark = float(input(\"Your physics mark is:\"))\n",
    "Chemistry_Mark = float(input(\"Your chemistry mark is:\"))\n",
    "Overall_Mark = (Maths_Mark + Physics_Mark + Chemistry_Mark)/3\n",
    "\n",
    "if Overall_Mark < 40:\n",
    "    grade = \"failed.\"\n",
    "    \n",
    "elif Overall_Mark >= 70:\n",
    "    grade = \"achived a grade of A.\"\n",
    "    \n",
    "elif Overall_Mark < 70:\n",
    "    if Overall_Mark < 60:\n",
    "        if Overall_Mark < 50:\n",
    "            grade = \"achived a grade of D.\"\n",
    "        else:\n",
    "            grade = \"achived a grade of C.\"\n",
    "    else:\n",
    "        grade = \"achived a grade of B.\"\n",
    "\n",
    "else:\n",
    "    print(\"CHECK USER INPUT!!!\")\n",
    "        \n",
    "print(\"Your overall mark is \" + str(Overall_Mark) + \"%\" + \" and you have \" + grade)"
   ]
  },
  {
   "cell_type": "code",
   "execution_count": 32,
   "metadata": {},
   "outputs": [
    {
     "name": "stdout",
     "output_type": "stream",
     "text": [
      "Number A: 2\n",
      "Number B: 3\n",
      "As integer 6 and as float 6.0\n"
     ]
    }
   ],
   "source": [
    "NumA = float(input(\"Number A: \"))\n",
    "NumB = float(input(\"Number B: \"))\n",
    "print(\"As integer \" + str(int(cal(\"*\", NumA, NumB))) + \" and as float \" + str(cal(\"*\", NumA, NumB))) "
   ]
  },
  {
   "cell_type": "code",
   "execution_count": 51,
   "metadata": {},
   "outputs": [
    {
     "name": "stdout",
     "output_type": "stream",
     "text": [
      "enter first number: 9\n",
      "enter second number: 7\n",
      "num1bigger:  True\n"
     ]
    }
   ],
   "source": [
    "num1 = float(input(\"enter first number: \"))\n",
    "num2 = float(input(\"enter second number: \"))\n",
    "if num1 > num2:\n",
    "    num1bigger = True\n",
    "else:\n",
    "    num1bigger = False\n",
    "\n",
    "print(\"num1bigger: \", num1bigger)"
   ]
  },
  {
   "cell_type": "code",
   "execution_count": 49,
   "metadata": {},
   "outputs": [
    {
     "name": "stdout",
     "output_type": "stream",
     "text": [
      "enter first animal: Dog\n",
      "enter first animal: Cat\n",
      "Would you like to add another animal? 0 for YES, anything else for NO0\n",
      "enter additional animal: Bat\n",
      "Would you like to add another animal? 0 for YES, anything else for NO9\n",
      "enter additional animal: Crab\n",
      "['Bat', 'Cat', 'Crab', 'Dog']\n"
     ]
    }
   ],
   "source": [
    "Animal1 =  input(\"enter first animal: \")\n",
    "\n",
    "Animal2 =  input(\"enter first animal: \")\n",
    "\n",
    "Animals = [Animal1, Animal2]\n",
    "loop = int(0)\n",
    "\n",
    "while loop == 0:\n",
    "    loop = int(input(\"Would you like to add another animal? 0 for YES, anything else for NO\"))\n",
    "    Animal3 = input(\"enter additional animal: \")\n",
    "    Animals += [Animal3]\n",
    "    \n",
    "print(sorted(Animals))"
   ]
  },
  {
   "cell_type": "code",
   "execution_count": 83,
   "metadata": {},
   "outputs": [
    {
     "name": "stdout",
     "output_type": "stream",
     "text": [
      "7\n"
     ]
    }
   ],
   "source": [
    "ISBN_Num = \"978030640615\" #input(\"What is the ISBN of the book?:\")\n",
    "ISBN_Num_Vec = []\n",
    "tot_1 = 0\n",
    "tot_2 = 0\n",
    "\n",
    "for i in range(0,13):\n",
    "    ISBN_Num_Vec += ISBN_Num[i:i+1]\n",
    "\n",
    "for i in range(0,12,2):\n",
    "    tot_1 = tot_1 + int(ISBN_Num_Vec[i])\n",
    "\n",
    "for i in range(1,13,2):\n",
    "    tot_2 =  tot_2 + 3*int(ISBN_Num_Vec[i])\n",
    "    \n",
    "print(10-((tot_1 + tot_2)%10))"
   ]
  },
  {
   "cell_type": "code",
   "execution_count": 89,
   "metadata": {},
   "outputs": [
    {
     "name": "stdout",
     "output_type": "stream",
     "text": [
      "1\n",
      "2\n",
      "3\n",
      "4\n",
      "5\n",
      "6\n",
      "7\n",
      "8\n",
      "9\n",
      "10\n",
      "2\n",
      "4\n",
      "6\n",
      "8\n",
      "10\n",
      "12\n",
      "14\n",
      "16\n",
      "18\n",
      "20\n",
      "3\n",
      "6\n",
      "9\n",
      "12\n",
      "15\n",
      "18\n",
      "21\n",
      "24\n",
      "27\n",
      "30\n",
      "4\n",
      "8\n",
      "12\n",
      "16\n",
      "20\n",
      "24\n",
      "28\n",
      "32\n",
      "36\n",
      "40\n",
      "5\n",
      "10\n",
      "15\n",
      "20\n",
      "25\n",
      "30\n",
      "35\n",
      "40\n",
      "45\n",
      "50\n",
      "6\n",
      "12\n",
      "18\n",
      "24\n",
      "30\n",
      "36\n",
      "42\n",
      "48\n",
      "54\n",
      "60\n",
      "7\n",
      "14\n",
      "21\n",
      "28\n",
      "35\n",
      "42\n",
      "49\n",
      "56\n",
      "63\n",
      "70\n",
      "8\n",
      "16\n",
      "24\n",
      "32\n",
      "40\n",
      "48\n",
      "56\n",
      "64\n",
      "72\n",
      "80\n",
      "9\n",
      "18\n",
      "27\n",
      "36\n",
      "45\n",
      "54\n",
      "63\n",
      "72\n",
      "81\n",
      "90\n",
      "10\n",
      "20\n",
      "30\n",
      "40\n",
      "50\n",
      "60\n",
      "70\n",
      "80\n",
      "90\n",
      "100\n"
     ]
    }
   ],
   "source": [
    "for i in range(0,10):\n",
    "    for j in range(0,10):\n",
    "        print((i+1)*(j+1))"
   ]
  },
  {
   "cell_type": "code",
   "execution_count": 136,
   "metadata": {
    "scrolled": true
   },
   "outputs": [
    {
     "name": "stdout",
     "output_type": "stream",
     "text": [
      "eset\n",
      "rset\n",
      "reet\n",
      "rest\n",
      "True\n"
     ]
    }
   ],
   "source": [
    "def near(word1, word2): #can word2 be made from word1 by removing one letter?\n",
    "    \n",
    "    for i in range(0,len(word1)):\n",
    "        if len(word1) > index:\n",
    "            mod_word1 = word1[0 : i : ] + word1[i + 1 : :]   \n",
    "        print(mod_word1)\n",
    "        \n",
    "        if mod_word1 == word2:\n",
    "            return(\"True\")\n",
    "            break\n",
    "        elif i == len(word1)-1:\n",
    "            return(\"False\")\n",
    "\n",
    "print(near(\"reset\",\"rest\"))"
   ]
  },
  {
   "cell_type": "code",
   "execution_count": 91,
   "metadata": {},
   "outputs": [
    {
     "name": "stdout",
     "output_type": "stream",
     "text": [
      "['softball', 'football', 'rugby', 'cricket', 'basketball']\n"
     ]
    }
   ],
   "source": [
    "sports = ['football', 'rugby', 'cricket', 'darts']\n",
    "sports.append('basketball')\n",
    "sports.append('baseball')\n",
    "sports.append('golf')\n",
    "sports.insert(0,'softball')\n",
    "del sports[4]\n",
    "print(sports[0:5])"
   ]
  },
  {
   "cell_type": "code",
   "execution_count": 94,
   "metadata": {},
   "outputs": [
    {
     "name": "stdout",
     "output_type": "stream",
     "text": [
      "SREENIGNE DUOLC\n"
     ]
    }
   ],
   "source": [
    "string = \"We will be the best Java Developers the world has ever seen!\"\n",
    "new_string = string.replace('Java Developers', 'Cloud Engineers')\n",
    "ce = new_string[20:35]\n",
    "shout= ce.upper()\n",
    "final_string = ''.join(reversed(shout))\n",
    "print(final_string)"
   ]
  },
  {
   "cell_type": "code",
   "execution_count": 107,
   "metadata": {},
   "outputs": [
    {
     "data": {
      "text/plain": [
       "'a'"
      ]
     },
     "execution_count": 107,
     "metadata": {},
     "output_type": "execute_result"
    }
   ],
   "source": [
    "a = \"abcdefg\"\n",
    "a[len(a)-1-6:len(a)-6]"
   ]
  },
  {
   "cell_type": "code",
   "execution_count": 3,
   "metadata": {},
   "outputs": [
    {
     "name": "stdout",
     "output_type": "stream",
     "text": [
      "[[1, 2, 3, 4, 5, 6, 7, 8, 9, 10, 11, 12, 13, 14, 15, 16, 17, 18, 19, 20, 21, 22, 23, 24, 25, 26, 27, 28, 29, 30, 31, 32, 33, 34, 35, 36, 37, 38, 39, 40, 41, 42, 43, 44, 45, 46, 47, 48, 49, 50, 51, 52, 53, 54, 55, 56, 57, 58, 59, 60], [0, 2, 4, 6, 8, 10, 12, 14, 16, 18, 20, 22, 24, 26, 28, 30, 32, 34, 36, 38, 40, 42, 44, 46, 48, 50, 52, 54, 56, 58, 60], [0, 3, 6, 9, 12, 15, 18, 21, 24, 27, 30, 33, 36, 39, 42, 45, 48, 51, 54, 57, 60]]\n"
     ]
    }
   ],
   "source": [
    "a = []\n",
    "\n",
    "for i in range(1,51):\n",
    "    a.append(i)\n",
    "    \n",
    "#print(a)\n",
    "\n",
    "for j in range(51,61):\n",
    "    a.append(j)\n",
    "\n",
    "#print(a)\n",
    "\n",
    "b = []\n",
    "\n",
    "for k in range(0,61,2):\n",
    "    b.append(k)\n",
    "    \n",
    "#print(b)   \n",
    "\n",
    "c = []\n",
    "    \n",
    "for l in range(0,61,3):\n",
    "    c.append(l)\n",
    "\n",
    "#print(c)\n",
    "\n",
    "d = [a,b,c]\n",
    "\n",
    "print(d)"
   ]
  },
  {
   "cell_type": "code",
   "execution_count": 47,
   "metadata": {},
   "outputs": [
    {
     "name": "stdout",
     "output_type": "stream",
     "text": [
      "None\n"
     ]
    }
   ],
   "source": [
    "base_1 = {'zero': 0,'one':1,'two':2,'three':3,'four':4,'five':5,'six':6,'seven':7,'eight':8,'nine':9,'ten':10,\n",
    "              'eleven':11, 'twelve':12,'thirteen':13,'fourteen':14,'fifthteen':15,'sixteen':16,'seventeen':17,\n",
    "              'eighteen':18,'nineteen':19,}\n",
    "base_2 = {'twenty':2,'thirty':3,'fourty':4,'fifty':5,'sixty':6,'seventy':7,'eighty':8,'ninety':9}\n",
    "base_3 ={'hundred':3,'thousand':6,'million':9,'billion':12,'trillion':15}  \n",
    "\n",
    "def Num2print(NUM,Zeta):\n",
    "    output = []\n",
    "    for i in range(0,6): \n",
    "        if len(NUM) > 3*i and len(NUM) <= 3 + 3*i:\n",
    "            for j in range(0,i+1):\n",
    "                output.append(Zeta[j])\n",
    "    LO = len(NUM)%3\n",
    "    output = list(reversed(output))\n",
    "    for i in range(1,LO+1):\n",
    "        print(4)\n",
    "    for k in range(1,len(output)):\n",
    "        print(k)\n",
    "        print()\n",
    "    print(output)\n",
    "\n",
    "    \n",
    "def Num2Word(num,alpha, beta, gamma):\n",
    "    index = 0\n",
    "    if len(num) <= 2:\n",
    "        if int(num) >= 0 and int(num) <= 19:\n",
    "            print(list(alpha.keys())[int(num)])\n",
    "        elif int(num[1]) != 0:\n",
    "            print(list(beta.keys())[int(num[0])-2] + \" \" + list(alpha.keys())[int(num[1])] )\n",
    "        else:\n",
    "            print(list(beta.keys())[int(num[0])-2])\n",
    "    elif len(num) == 3:\n",
    "        if int(num[1:3]) >= 0 and int(num[1:3]) <= 19:\n",
    "            if int(num[1]) == 0 and int(num[2]) == 0:\n",
    "                print(list(alpha.keys())[int(num[0])] + ' hundred ')\n",
    "            else:\n",
    "                print(list(alpha.keys())[int(num[0])] + ' hundred ' + 'and ' + list(alpha.keys())[int(num[1:3])])\n",
    "            \n",
    "        else:\n",
    "            if int(num[2]) == 0:\n",
    "                    print(list(alpha.keys())[int(num[0])] + ' hundred ' + 'and ' + list(beta.keys())[int(num[1])-2])\n",
    "            else:\n",
    "                print(list(alpha.keys())[int(num[0])] + ' hundred ' + 'and ' + list(beta.keys())[int(num[1])-2]+ \" \" + list(alpha.keys())[int(num[2])])\n",
    "\n",
    "       \n",
    "print(Num2Word(str(98697), base_1, base_2, base_3))\n",
    "\n",
    "print()"
   ]
  },
  {
   "cell_type": "code",
   "execution_count": 16,
   "metadata": {},
   "outputs": [
    {
     "name": "stdout",
     "output_type": "stream",
     "text": [
      "3\n"
     ]
    }
   ],
   "source": [
    "base_3 ={'hundred':1,'thousand':2,'million':3,'billion':4,'trillion':5}\n",
    "list(base_3.keys())[2]\n",
    "print(base_3['million'])"
   ]
  },
  {
   "cell_type": "code",
   "execution_count": 84,
   "metadata": {},
   "outputs": [
    {
     "ename": "SyntaxError",
     "evalue": "invalid syntax (<ipython-input-84-b4d9de5fa9b0>, line 15)",
     "output_type": "error",
     "traceback": [
      "\u001b[1;36m  File \u001b[1;32m\"<ipython-input-84-b4d9de5fa9b0>\"\u001b[1;36m, line \u001b[1;32m15\u001b[0m\n\u001b[1;33m    except ValueError:\u001b[0m\n\u001b[1;37m         ^\u001b[0m\n\u001b[1;31mSyntaxError\u001b[0m\u001b[1;31m:\u001b[0m invalid syntax\n"
     ]
    }
   ],
   "source": [
    "route = [2, 1, 7, 12, 12, 10, 8, 9, 2, 20, 19, 20, 17, 5, 19, 0, 11, 5, 20] #brute force method\n",
    "MaX = max(route)\n",
    "log = [route[0]]\n",
    "\n",
    "for i in range(0,len(route)):\n",
    "    if route[i] == max(route):\n",
    "        log.append(route[i])\n",
    "        print('The route for the brute force menthod is' + ' ' + str(log))\n",
    "        break\n",
    "    if route[i] > route[i - 1]:\n",
    "        log.append(route[i])"
   ]
  },
  {
   "cell_type": "code",
   "execution_count": 12,
   "metadata": {},
   "outputs": [
    {
     "name": "stdout",
     "output_type": "stream",
     "text": [
      "\n",
      "\n",
      "\n",
      "\n",
      "\n",
      "\n",
      "\n",
      "\n",
      "\n",
      "\n",
      "\n",
      "\n",
      "\n",
      "\n",
      "\n",
      "\n",
      "\n",
      "\n",
      "\n",
      "\n",
      "\n",
      "\n",
      "\n",
      "\n",
      "\n",
      "\n",
      "\n",
      "\n",
      "\n",
      "\n",
      "\n",
      "\n",
      "\n",
      "\n",
      "\n",
      "\n",
      "\n",
      "\n",
      "\n",
      "\n",
      "free space\n",
      "free\n",
      "free\n",
      "free\n",
      "free\n",
      "blcokde\n",
      "blcokde\n",
      "blcokde\n",
      "[1, 4]\n"
     ]
    }
   ],
   "source": [
    "Maze_Matrix = [list('#########'),\n",
    "               list('#E ######'),\n",
    "               list('##      #'),\n",
    "               list('##### # #'),\n",
    "               list('#>    ###'),\n",
    "               list('##### ###'),\n",
    "               list('##### ###'),\n",
    "               list('##### ###'),\n",
    "               list('##### ###'),\n",
    "               list('##### ###'),\n",
    "               list('##### ###'),\n",
    "               list('#########')]\n",
    "\n",
    "Arrows = ['>','<','v','^']\n",
    "Store = [[1,0],[-1,0],[0,-1],[0,1]]\n",
    "Ref = [0,0,0,0]\n",
    "Pos = [0,0]\n",
    "\n",
    "for j in range(0,4):\n",
    "    for i in range(0,len(Maze_Matrix)):\n",
    "            try:\n",
    "                Pos[0] = Maze_Matrix[i].index(Arrows[j])\n",
    "                Pos[1] = i              \n",
    "                break\n",
    "            except:\n",
    "                print('')\n",
    "\n",
    "for k in range(0,4):\n",
    "    if Maze_Matrix[ Pos[1]+Store[k][1] ][ Pos[0]+Store[k][0]] == '#':\n",
    "        print('blcokde')\n",
    "    else:\n",
    "        print('free space')\n",
    "        for i in range(1,5):\n",
    "            if Maze_Matrix[ Pos[1]+i*Store[k][1] ][ Pos[0]+i*Store[k][0]] == '#':\n",
    "                print(str(i) + \" is not free\")\n",
    "                break #update\n",
    "            elif Maze_Matrix[ Pos[1]+i*Store[k][1] ][ Pos[0]+i*Store[k][0]] == 'E':\n",
    "                print(\"Escaped\")\n",
    "            else:\n",
    "                print(\"free\")\n",
    "               # Pos[1] = Pos[1]+i*Store[k][1]\n",
    "               # Pos[0] = Pos[0]+i*Store[k][0]\n",
    "               # print(str(i) + \" is free\")\n",
    "    \n",
    "                \n",
    "#if Store[0] == 1:\n",
    "#    check\n",
    "#elif Store[1] == 1:\n",
    "#    \n",
    "#elif Store[2] == 1:\n",
    "    \n",
    "#else:\n",
    "print(Pos)"
   ]
  },
  {
   "cell_type": "code",
   "execution_count": 9,
   "metadata": {},
   "outputs": [],
   "source": [
    "file = open(\"filename.txt\",\"w\")\n",
    "for n in range(1,11):\n",
    "    newline = \"This is line \" + str(n) + \"\\n\"\n",
    "    file.write(newline)\n",
    "file.close()"
   ]
  },
  {
   "cell_type": "code",
   "execution_count": null,
   "metadata": {},
   "outputs": [],
   "source": [
    "file = open(\"filename.txt\",\"r+\")\n",
    "\n",
    "textnthings = ['Beat','down','madness','chaos','in','your','thang']\n",
    "\n",
    "for i in range(0,len(textnthings)):\n",
    "    newline = textnthings[i] + \"\\n\"\n",
    "    file.write(newline)\n",
    "\n",
    "file.close()"
   ]
  },
  {
   "cell_type": "code",
   "execution_count": null,
   "metadata": {},
   "outputs": [],
   "source": [
    "outF = open(\"myOutFile.txt\", \"w\")\n",
    "for line in textList:\n",
    "  # write line to output file\n",
    "  outF.write(line)\n",
    "  outF.write(\"\\n\")\n",
    "outF.close()"
   ]
  },
  {
   "cell_type": "code",
   "execution_count": 2,
   "metadata": {},
   "outputs": [
    {
     "name": "stdout",
     "output_type": "stream",
     "text": [
      "There are 216814 primes between 1 and 3000000\n",
      "7.4080657958984375\n"
     ]
    }
   ],
   "source": [
    "import sympy\n",
    "import time\n",
    "start = time.time()\n",
    "# With packages\n",
    "primes = []\n",
    "multiples5 = 0\n",
    "a = 3000000\n",
    "for i in range(1,a,2):\n",
    "    if i%5 == 0:\n",
    "        multiples5 = 0\n",
    "    elif sympy.isprime(i) == True:\n",
    "        primes.append(i)\n",
    "print('There are ' + str(len(primes)) + ' primes between 1 and ' + str(a))\n",
    "\n",
    "end = time.time()    \n",
    "print(end - start)"
   ]
  },
  {
   "cell_type": "code",
   "execution_count": null,
   "metadata": {},
   "outputs": [],
   "source": [
    "import sympy\n",
    "import time\n",
    "import pdb\n",
    "start = time.time()\n",
    "# With packages\n",
    "primes = []\n",
    "multiples5 = 0\n",
    "a = 3000000\n",
    "for i in range(1,a,2):\n",
    "    if sympy.isprime(i) == True:\n",
    "        primes.append(i)\n",
    "print('There are ' + str(len(primes)) + ' primes between 1 and ' + str(a))\n",
    "\n",
    "end = time.time()    \n",
    "print(end - start)"
   ]
  },
  {
   "cell_type": "code",
   "execution_count": 4,
   "metadata": {},
   "outputs": [
    {
     "name": "stdout",
     "output_type": "stream",
     "text": [
      "216816 primes between 1 and 3000000\n",
      "7.348998308181763\n"
     ]
    }
   ],
   "source": [
    "start = time.time()\n",
    "print(str(len(list(sympy.primerange(1, 3000000)))) + ' primes between 1 and 3000000')\n",
    "end = time.time()    \n",
    "print(end - start)"
   ]
  },
  {
   "cell_type": "code",
   "execution_count": 11,
   "metadata": {},
   "outputs": [
    {
     "name": "stdout",
     "output_type": "stream",
     "text": [
      "> c:\\users\\admin\\anaconda3\\lib\\site-packages\\ipython\\core\\compilerop.py(101)ast_parse()\n",
      "-> return compile(source, filename, symbol, self.flags | PyCF_ONLY_AST, 1)\n",
      "(Pdb) p\n",
      "*** SyntaxError: unexpected EOF while parsing\n",
      "(Pdb) n\n",
      "aaa\n",
      "bbb\n",
      "ccc\n",
      "aaabbbccc\n"
     ]
    }
   ],
   "source": [
    "import pdb\n",
    "pdb.pm()\n",
    "a = \"aaa\"\n",
    "print(a)\n",
    "b = \"bbb\"\n",
    "print(b)\n",
    "c = \"ccc\"\n",
    "print(c)\n",
    "final = a + b + c\n",
    "print(final)"
   ]
  },
  {
   "cell_type": "code",
   "execution_count": 4,
   "metadata": {},
   "outputs": [
    {
     "name": "stdout",
     "output_type": "stream",
     "text": [
      "Sorry you don't have enough money!\n"
     ]
    }
   ],
   "source": [
    "def burger(item_price, user_funds):\n",
    "    if item_price < user_funds:\n",
    "        print(\"You have enough money!\")\n",
    "    elif item_price == user_funds:\n",
    "        print(\"You have the precise amount of money!\")\n",
    "    else:\n",
    "        item_price > user_funds\n",
    "        print(\"Sorry you don't have enough money!\")\n",
    "              \n",
    "user_funds = 10.31\n",
    "item_price = 11.00\n",
    "              \n",
    "burger(item_price, user_funds)"
   ]
  },
  {
   "cell_type": "code",
   "execution_count": 25,
   "metadata": {},
   "outputs": [
    {
     "name": "stdout",
     "output_type": "stream",
     "text": [
      "How many players? 3\n",
      "-----------\n",
      "[7]\n",
      "-----------\n",
      "Turn 1; Player 1\n",
      "[7, 0, 0]\n",
      "-----------\n",
      "[7, 11]\n",
      "-----------\n",
      "Turn 2; Player 2\n",
      "[7, 11, 0]\n",
      "-----------\n",
      "[7, 11, 13]\n",
      "-----------\n",
      "Turn 3; Player 3\n",
      "[7, 11, 13]\n",
      "-----------\n",
      "[7, 11, 13, 13]\n",
      "-----------\n",
      "Turn 4; Player 1\n",
      "[20, 11, 13]\n",
      "-----------\n",
      "[7, 11, 13, 13, 9]\n",
      "-----------\n",
      "Turn 5; Player 2\n",
      "[20, 20, 13]\n",
      "-----------\n",
      "[7, 11, 13, 13, 9, 6]\n",
      "-----------\n",
      "Turn 6; Player 3\n",
      "[20, 20, 19]\n",
      "-----------\n",
      "[7, 11, 13, 13, 9, 6, 3]\n",
      "-----------\n",
      "[7, 11, 13, 13, 9, 6, 3]\n"
     ]
    },
    {
     "ename": "TypeError",
     "evalue": "can only concatenate str (not \"NoneType\") to str",
     "output_type": "error",
     "traceback": [
      "\u001b[1;31m---------------------------------------------------------------------------\u001b[0m",
      "\u001b[1;31mTypeError\u001b[0m                                 Traceback (most recent call last)",
      "\u001b[1;32m<ipython-input-25-815cfce1bbdd>\u001b[0m in \u001b[0;36m<module>\u001b[1;34m\u001b[0m\n\u001b[0;32m     40\u001b[0m         \u001b[1;32mif\u001b[0m \u001b[0mplayer_score\u001b[0m\u001b[1;33m[\u001b[0m\u001b[0mi\u001b[0m\u001b[1;33m]\u001b[0m \u001b[1;33m>\u001b[0m \u001b[1;36m21\u001b[0m\u001b[1;33m:\u001b[0m\u001b[1;33m\u001b[0m\u001b[1;33m\u001b[0m\u001b[0m\n\u001b[0;32m     41\u001b[0m             \u001b[0mprint\u001b[0m\u001b[1;33m(\u001b[0m\u001b[1;34m\"-----------\"\u001b[0m\u001b[1;33m)\u001b[0m\u001b[1;33m\u001b[0m\u001b[1;33m\u001b[0m\u001b[0m\n\u001b[1;32m---> 42\u001b[1;33m             \u001b[0mprint\u001b[0m\u001b[1;33m(\u001b[0m\u001b[1;34m\"Player \"\u001b[0m \u001b[1;33m+\u001b[0m \u001b[0mstr\u001b[0m\u001b[1;33m(\u001b[0m\u001b[0mlen\u001b[0m\u001b[1;33m(\u001b[0m\u001b[0mplayer_score\u001b[0m\u001b[1;33m[\u001b[0m\u001b[1;36m0\u001b[0m\u001b[1;33m:\u001b[0m\u001b[0mi\u001b[0m\u001b[1;33m+\u001b[0m\u001b[1;36m1\u001b[0m\u001b[1;33m]\u001b[0m\u001b[1;33m)\u001b[0m\u001b[1;33m)\u001b[0m \u001b[1;33m+\u001b[0m \u001b[1;34m\" lost on turn \"\u001b[0m \u001b[1;33m+\u001b[0m \u001b[0mstr\u001b[0m\u001b[1;33m(\u001b[0m\u001b[0mTurn_Counter\u001b[0m \u001b[1;33m+\u001b[0m \u001b[1;36m1\u001b[0m\u001b[1;33m)\u001b[0m \u001b[1;33m+\u001b[0m \u001b[1;34m\" with hand \"\u001b[0m \u001b[1;33m+\u001b[0m \u001b[0mprint\u001b[0m\u001b[1;33m(\u001b[0m\u001b[0mplayer_hand\u001b[0m\u001b[1;33m[\u001b[0m\u001b[0mi\u001b[0m\u001b[1;33m]\u001b[0m\u001b[1;33m)\u001b[0m\u001b[1;33m)\u001b[0m\u001b[1;33m\u001b[0m\u001b[1;33m\u001b[0m\u001b[0m\n\u001b[0m\u001b[0;32m     43\u001b[0m             \u001b[0mCard_Counter\u001b[0m \u001b[1;33m=\u001b[0m \u001b[1;36m1\u001b[0m\u001b[1;33m\u001b[0m\u001b[1;33m\u001b[0m\u001b[0m\n\u001b[0;32m     44\u001b[0m             \u001b[0mprint\u001b[0m\u001b[1;33m(\u001b[0m\u001b[1;34m\"-----------\"\u001b[0m\u001b[1;33m)\u001b[0m\u001b[1;33m\u001b[0m\u001b[1;33m\u001b[0m\u001b[0m\n",
      "\u001b[1;31mTypeError\u001b[0m: can only concatenate str (not \"NoneType\") to str"
     ]
    }
   ],
   "source": [
    "from random import shuffle\n",
    "\n",
    "def Shuffle():\n",
    "    Cards = []\n",
    "    for j in range(0,4):\n",
    "        for i in range(1,14):\n",
    "            Cards.append(int(i))\n",
    "        shuffle(Cards)\n",
    "    return Cards\n",
    "\n",
    "Turn_Counter = 0\n",
    "\n",
    "Deck = Shuffle()\n",
    "\n",
    "num_players = int(input(\"How many players? \"))\n",
    "\n",
    "player_score = num_players*[0]\n",
    "\n",
    "player_hand = num_players*[[]]\n",
    "\n",
    "Card_Counter = 0\n",
    "\n",
    "while Card_Counter == 0:\n",
    "    for i in range(0,len(player_score)):\n",
    "        if Deck[Turn_Counter] != 1:\n",
    "            print(\"-----------\")\n",
    "            player_score[i] = player_score[i] + Deck[Turn_Counter]\n",
    "            player_hand[i].append(Deck[Turn_Counter])\n",
    "            print(player_hand[i])\n",
    "        else:\n",
    "            print(\"-----------\")\n",
    "            if player_score[i] + 11 <= 21:\n",
    "                player_score[i] = player_score[i] + 13\n",
    "                player_hand[i].append(13)\n",
    "                print(player_hand[i])\n",
    "            else:\n",
    "                player_score[i] = player_score[i] + 1\n",
    "                player_hand[i].append(1)\n",
    "                print(player_hand[i])\n",
    "        if player_score[i] > 21:\n",
    "            print(\"-----------\")\n",
    "            print(\"Player \" + str(len(player_score[0:i+1])) + \" lost on turn \" + str(Turn_Counter + 1) + \" with hand \" + print(player_hand[i]))\n",
    "            Card_Counter = 1\n",
    "            print(\"-----------\")\n",
    "            break\n",
    "        else:\n",
    "            print(\"-----------\")\n",
    "            Turn_Counter = Turn_Counter + 1\n",
    "            print(\"Turn \" + str(Turn_Counter) + \"; Player \" + str(len(player_score[0:i+1])))\n",
    "            print(player_score)\n",
    "            \n",
    "player_score\n",
    "print(Deck)\n",
    "print(player_hand)"
   ]
  },
  {
   "cell_type": "code",
   "execution_count": null,
   "metadata": {},
   "outputs": [],
   "source": []
  },
  {
   "cell_type": "code",
   "execution_count": null,
   "metadata": {},
   "outputs": [],
   "source": []
  },
  {
   "cell_type": "code",
   "execution_count": null,
   "metadata": {},
   "outputs": [],
   "source": []
  },
  {
   "cell_type": "code",
   "execution_count": null,
   "metadata": {},
   "outputs": [],
   "source": []
  }
 ],
 "metadata": {
  "kernelspec": {
   "display_name": "Python 3",
   "language": "python",
   "name": "python3"
  },
  "language_info": {
   "codemirror_mode": {
    "name": "ipython",
    "version": 3
   },
   "file_extension": ".py",
   "mimetype": "text/x-python",
   "name": "python",
   "nbconvert_exporter": "python",
   "pygments_lexer": "ipython3",
   "version": "3.7.3"
  }
 },
 "nbformat": 4,
 "nbformat_minor": 2
}
